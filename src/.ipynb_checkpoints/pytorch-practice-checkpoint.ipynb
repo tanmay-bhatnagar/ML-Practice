{
 "cells": [
  {
   "cell_type": "markdown",
   "id": "7fd5457f-aed6-4b45-ad33-aaf27a21b6a1",
   "metadata": {},
   "source": [
    "#### https://github.com/mrdbourke/pytorch-deep-learning"
   ]
  },
  {
   "cell_type": "code",
   "execution_count": 1,
   "id": "b363d369-2a0e-429c-b20d-ccf3a2744a55",
   "metadata": {},
   "outputs": [],
   "source": [
    "import torch\n",
    "import numpy as np"
   ]
  },
  {
   "cell_type": "code",
   "execution_count": 2,
   "id": "40590085-2df1-4ff8-84b5-37ee9a8dc218",
   "metadata": {},
   "outputs": [],
   "source": [
    "torch.manual_seed(42)\n",
    "if torch.cuda.is_available():\n",
    "    torch.cuda.manual_seed_all(42)"
   ]
  },
  {
   "cell_type": "code",
   "execution_count": 3,
   "id": "3c366674-b634-4a65-bbad-19e677e8292c",
   "metadata": {},
   "outputs": [
    {
     "name": "stdout",
     "output_type": "stream",
     "text": [
      "2.3.0\n"
     ]
    }
   ],
   "source": [
    "print(torch.__version__)"
   ]
  },
  {
   "cell_type": "markdown",
   "id": "9473b480-a118-4df1-94da-d1710463dea5",
   "metadata": {},
   "source": [
    "#### Introduction to Tensors"
   ]
  },
  {
   "cell_type": "code",
   "execution_count": 4,
   "id": "aa4730ca-2451-4f0f-9186-205d40ed6e63",
   "metadata": {},
   "outputs": [],
   "source": [
    "scalar = torch.tensor(10)"
   ]
  },
  {
   "cell_type": "code",
   "execution_count": 5,
   "id": "bcc69415-87c3-4dd9-96ff-8d405be06d9e",
   "metadata": {},
   "outputs": [
    {
     "data": {
      "text/plain": [
       "tensor(10)"
      ]
     },
     "execution_count": 5,
     "metadata": {},
     "output_type": "execute_result"
    }
   ],
   "source": [
    "scalar"
   ]
  },
  {
   "cell_type": "code",
   "execution_count": 6,
   "id": "93e08111-be2c-430c-a4be-580e61071e51",
   "metadata": {},
   "outputs": [
    {
     "name": "stdout",
     "output_type": "stream",
     "text": [
      "Uninitialized tensor (torch.Tensor):\n",
      "tensor([[0., 0., 0.],\n",
      "        [0., 0., 0.]])\n",
      "Initialized tensor (torch.tensor):\n",
      "tensor([[1, 2, 3],\n",
      "        [4, 5, 6]])\n"
     ]
    }
   ],
   "source": [
    "def create_tensors():\n",
    "    \"\"\"\n",
    "    Function to demonstrate the difference between torch.Tensor and torch.tensor.\n",
    "\n",
    "    Returns:\n",
    "        dict: A dictionary containing two tensors created by torch.Tensor and torch.tensor.\n",
    "    \"\"\"\n",
    "    # Using torch.Tensor to create an uninitialized tensor of size 2x3\n",
    "    uninitialized_tensor = torch.Tensor(2, 3)\n",
    "    \n",
    "    # Display the uninitialized tensor\n",
    "    print(\"Uninitialized tensor (torch.Tensor):\")\n",
    "    print(uninitialized_tensor)\n",
    "\n",
    "    # Using torch.tensor to create a tensor with initial data\n",
    "    data = [[1, 2, 3], [4, 5, 6]]\n",
    "    initialized_tensor = torch.tensor(data)\n",
    "    \n",
    "    # Display the initialized tensor\n",
    "    print(\"Initialized tensor (torch.tensor):\")\n",
    "    print(initialized_tensor)\n",
    "    \n",
    "    return {\n",
    "        \"uninitialized_tensor\": uninitialized_tensor,\n",
    "        \"initialized_tensor\": initialized_tensor\n",
    "    }\n",
    "\n",
    "# Call the function and store the result\n",
    "tensors = create_tensors()"
   ]
  },
  {
   "cell_type": "code",
   "execution_count": 7,
   "id": "17d19a47-aa7e-489e-a922-5df2f029e070",
   "metadata": {},
   "outputs": [],
   "source": [
    "scalar = torch.tensor(data = np.random.randint(low = -1, high = 1, size = (3,4,5,6)), dtype = torch.int)"
   ]
  },
  {
   "cell_type": "code",
   "execution_count": 8,
   "id": "17a520e9-0b3e-4aff-94bf-72419cecfa37",
   "metadata": {},
   "outputs": [
    {
     "data": {
      "text/plain": [
       "4"
      ]
     },
     "execution_count": 8,
     "metadata": {},
     "output_type": "execute_result"
    }
   ],
   "source": [
    "scalar.ndim"
   ]
  },
  {
   "cell_type": "markdown",
   "id": "54caf5cc-e0c5-46e5-825e-4f632470847e",
   "metadata": {},
   "source": [
    "#### Random Tensors"
   ]
  },
  {
   "cell_type": "code",
   "execution_count": 9,
   "id": "251d37d2-1e00-4219-88b9-f6939db08a79",
   "metadata": {},
   "outputs": [],
   "source": [
    "random_tensor = torch.rand(3,4, dtype = torch.double)"
   ]
  },
  {
   "cell_type": "code",
   "execution_count": 10,
   "id": "bdf734ad-e994-4028-a55f-280c6ec83edd",
   "metadata": {},
   "outputs": [],
   "source": [
    "random_tensor = torch.randint(low = 0, high = 255 ,\n",
    "                              size = (28,28), dtype = torch.int)"
   ]
  },
  {
   "cell_type": "code",
   "execution_count": 11,
   "id": "c28dfdae-ec2b-492d-bdad-1811e0f40b18",
   "metadata": {},
   "outputs": [],
   "source": [
    "random_tensor = torch.randint(low = 0, high = 255 ,\n",
    "                              size = (3,4), dtype = torch.int)"
   ]
  },
  {
   "cell_type": "markdown",
   "id": "0d6281cb-269d-465f-8483-361ccd160e93",
   "metadata": {},
   "source": [
    "#### Zeros and Ones"
   ]
  },
  {
   "cell_type": "code",
   "execution_count": 12,
   "id": "60e665b1-ab37-4696-86df-8c2474ac7708",
   "metadata": {},
   "outputs": [],
   "source": [
    "zeros = torch.zeros(size = (3,4))"
   ]
  },
  {
   "cell_type": "code",
   "execution_count": 13,
   "id": "54a2895f-4270-4587-8588-8d9f000775b5",
   "metadata": {},
   "outputs": [
    {
     "data": {
      "text/plain": [
       "tensor([[ 91, 219, 227,  96],\n",
       "        [111,  88, 149,  15],\n",
       "        [180, 169,  81,  79]], dtype=torch.int32)"
      ]
     },
     "execution_count": 13,
     "metadata": {},
     "output_type": "execute_result"
    }
   ],
   "source": [
    "random_tensor"
   ]
  },
  {
   "cell_type": "code",
   "execution_count": 14,
   "id": "1d29fcfd-4f41-4c5f-b2d9-9cb2d3507a3a",
   "metadata": {},
   "outputs": [
    {
     "data": {
      "text/plain": [
       "tensor([[0, 0, 0, 0],\n",
       "        [0, 0, 0, 0],\n",
       "        [0, 0, 0, 0],\n",
       "        [0, 0, 0, 0]], dtype=torch.int32)"
      ]
     },
     "execution_count": 14,
     "metadata": {},
     "output_type": "execute_result"
    }
   ],
   "source": [
    "torch.zeros(size = (4,4), out = random_tensor)"
   ]
  },
  {
   "cell_type": "code",
   "execution_count": 15,
   "id": "1f064e6b-4ed8-4979-9962-d6e9f88b51ea",
   "metadata": {},
   "outputs": [
    {
     "data": {
      "text/plain": [
       "tensor([[0, 0, 0, 0],\n",
       "        [0, 0, 0, 0],\n",
       "        [0, 0, 0, 0],\n",
       "        [0, 0, 0, 0]], dtype=torch.int32)"
      ]
     },
     "execution_count": 15,
     "metadata": {},
     "output_type": "execute_result"
    }
   ],
   "source": [
    "random_tensor"
   ]
  },
  {
   "cell_type": "markdown",
   "id": "190d0df2-b624-4f70-9553-f4847d1e45f6",
   "metadata": {},
   "source": [
    "#### Range and Like Tensors"
   ]
  },
  {
   "cell_type": "code",
   "execution_count": 16,
   "id": "4f656c52-84fe-4601-8d11-612a45b71fb7",
   "metadata": {},
   "outputs": [
    {
     "data": {
      "text/plain": [
       "tensor([1, 2, 3, 4, 5, 6, 7, 8, 9])"
      ]
     },
     "execution_count": 16,
     "metadata": {},
     "output_type": "execute_result"
    }
   ],
   "source": [
    "ranged_tensor = torch.arange(1,10)\n",
    "ranged_tensor"
   ]
  },
  {
   "cell_type": "code",
   "execution_count": 17,
   "id": "42579512-872e-4bb5-a523-c0a7b1f4106a",
   "metadata": {},
   "outputs": [
    {
     "data": {
      "text/plain": [
       "tensor([0, 0, 0, 0, 0, 0, 0, 0, 0])"
      ]
     },
     "execution_count": 17,
     "metadata": {},
     "output_type": "execute_result"
    }
   ],
   "source": [
    "ranged_tensor = torch.zeros_like(ranged_tensor)\n",
    "ranged_tensor"
   ]
  },
  {
   "cell_type": "code",
   "execution_count": 18,
   "id": "1ad4c913-84dc-4fc2-9903-8621be3e3367",
   "metadata": {},
   "outputs": [],
   "source": [
    "random_tensor = torch.rand(3,4, dtype = torch.double)"
   ]
  },
  {
   "cell_type": "code",
   "execution_count": 19,
   "id": "99489dc0-8063-4120-9266-cdfa17977dd8",
   "metadata": {},
   "outputs": [
    {
     "data": {
      "text/plain": [
       "tensor([[1., 1., 1., 1.],\n",
       "        [1., 1., 1., 1.],\n",
       "        [1., 1., 1., 1.]], dtype=torch.float64)"
      ]
     },
     "execution_count": 19,
     "metadata": {},
     "output_type": "execute_result"
    }
   ],
   "source": [
    "torch.full_like(random_tensor, 1)"
   ]
  },
  {
   "cell_type": "code",
   "execution_count": 20,
   "id": "9a05bf69-18ed-478b-91f9-16284e3ae39e",
   "metadata": {},
   "outputs": [
    {
     "data": {
      "text/plain": [
       "tensor([0, 0, 1, 1, 0, 1, 0, 1, 0])"
      ]
     },
     "execution_count": 20,
     "metadata": {},
     "output_type": "execute_result"
    }
   ],
   "source": [
    "torch.randint_like(ranged_tensor, low = 0, high = 2)"
   ]
  },
  {
   "cell_type": "markdown",
   "id": "2bceebfc-13e3-4701-bb74-5a70cfbb64d8",
   "metadata": {},
   "source": [
    "#### Datatypes"
   ]
  },
  {
   "cell_type": "code",
   "execution_count": 21,
   "id": "d5d084d7-0515-415d-95e8-f57669f00aa6",
   "metadata": {},
   "outputs": [],
   "source": [
    "float_32_tensor = torch.tensor([3,6,8], dtype = torch.float16,\n",
    "                              requires_grad = False,\n",
    "                              device = None)"
   ]
  },
  {
   "cell_type": "code",
   "execution_count": 22,
   "id": "de5f227f-bf32-41d1-b1c8-eb97955c6ebe",
   "metadata": {},
   "outputs": [
    {
     "data": {
      "text/plain": [
       "tensor([3., 6., 8.], dtype=torch.float16)"
      ]
     },
     "execution_count": 22,
     "metadata": {},
     "output_type": "execute_result"
    }
   ],
   "source": [
    "float_32_tensor"
   ]
  },
  {
   "cell_type": "code",
   "execution_count": 23,
   "id": "ac3368bc-1fb0-4dc2-955b-ddbbd87593d1",
   "metadata": {},
   "outputs": [],
   "source": [
    "float_16_tensor = float_32_tensor.type(torch.float16)"
   ]
  },
  {
   "cell_type": "code",
   "execution_count": 24,
   "id": "b5432fd4-c4b8-4286-98ec-a2b8984567e8",
   "metadata": {},
   "outputs": [
    {
     "data": {
      "text/plain": [
       "tensor([3., 6., 8.], dtype=torch.float16)"
      ]
     },
     "execution_count": 24,
     "metadata": {},
     "output_type": "execute_result"
    }
   ],
   "source": [
    "float_16_tensor"
   ]
  },
  {
   "cell_type": "code",
   "execution_count": 25,
   "id": "230d0846-2a28-4414-b1ee-c6609e952cdc",
   "metadata": {},
   "outputs": [
    {
     "data": {
      "text/plain": [
       "device(type='cpu')"
      ]
     },
     "execution_count": 25,
     "metadata": {},
     "output_type": "execute_result"
    }
   ],
   "source": [
    "float_16_tensor.device"
   ]
  },
  {
   "cell_type": "code",
   "execution_count": 26,
   "id": "a9e21e15-a01f-45f5-a419-a97753bf4b26",
   "metadata": {},
   "outputs": [],
   "source": [
    "float_32_tensor = torch.tensor([3,6,8], dtype = torch.float16,\n",
    "                              requires_grad = False,\n",
    "                              device = \"cuda\")"
   ]
  },
  {
   "cell_type": "code",
   "execution_count": 27,
   "id": "28fd518a-49f7-4358-8c12-d482e9dafada",
   "metadata": {},
   "outputs": [
    {
     "data": {
      "text/plain": [
       "device(type='cuda', index=0)"
      ]
     },
     "execution_count": 27,
     "metadata": {},
     "output_type": "execute_result"
    }
   ],
   "source": [
    "float_32_tensor.device"
   ]
  },
  {
   "cell_type": "markdown",
   "id": "843bb1cd-032b-4118-b508-aa05d7983874",
   "metadata": {},
   "source": [
    "#### Tensor Operations"
   ]
  },
  {
   "cell_type": "code",
   "execution_count": 28,
   "id": "5c23b151-ddad-498c-9153-2e69a32126bc",
   "metadata": {},
   "outputs": [
    {
     "data": {
      "text/plain": [
       "torch.Size([1, 300000])"
      ]
     },
     "execution_count": 28,
     "metadata": {},
     "output_type": "execute_result"
    }
   ],
   "source": [
    "tensor = torch.randint(2,30, (1,300000))\n",
    "tensor.shape"
   ]
  },
  {
   "cell_type": "code",
   "execution_count": 29,
   "id": "1b30e4f7-e98a-4261-99f3-1febe190198e",
   "metadata": {},
   "outputs": [
    {
     "data": {
      "text/plain": [
       "tensor([[ 4,  8, 22,  ..., 14, 26,  2]])"
      ]
     },
     "execution_count": 29,
     "metadata": {},
     "output_type": "execute_result"
    }
   ],
   "source": [
    "tensor"
   ]
  },
  {
   "cell_type": "code",
   "execution_count": 30,
   "id": "7afcbb87-6848-4ee5-8878-060b8636da2a",
   "metadata": {},
   "outputs": [
    {
     "data": {
      "text/plain": [
       "torch.int64"
      ]
     },
     "execution_count": 30,
     "metadata": {},
     "output_type": "execute_result"
    }
   ],
   "source": [
    "tensor.dtype"
   ]
  },
  {
   "cell_type": "code",
   "execution_count": 31,
   "id": "0eb1e433-47d1-4f44-8e2b-7857de260f89",
   "metadata": {},
   "outputs": [
    {
     "data": {
      "text/plain": [
       "torch.float32"
      ]
     },
     "execution_count": 31,
     "metadata": {},
     "output_type": "execute_result"
    }
   ],
   "source": [
    "(tensor/2).dtype"
   ]
  },
  {
   "cell_type": "code",
   "execution_count": 32,
   "id": "a1472f7f-5ac0-413d-ab18-9ee985aed1f9",
   "metadata": {},
   "outputs": [],
   "source": [
    "tensor2 = torch.randint(2,30, (300000,1))"
   ]
  },
  {
   "cell_type": "code",
   "execution_count": 33,
   "id": "07fb38ee-4956-4a76-b0ad-72b3ff53d7bb",
   "metadata": {},
   "outputs": [
    {
     "ename": "RuntimeError",
     "evalue": "[enforce fail at alloc_cpu.cpp:117] err == 0. DefaultCPUAllocator: can't allocate memory: you tried to allocate 720000000000 bytes. Error code 12 (Cannot allocate memory)",
     "output_type": "error",
     "traceback": [
      "\u001b[0;31m---------------------------------------------------------------------------\u001b[0m",
      "\u001b[0;31mRuntimeError\u001b[0m                              Traceback (most recent call last)",
      "File \u001b[0;32m<timed eval>:1\u001b[0m\n",
      "\u001b[0;31mRuntimeError\u001b[0m: [enforce fail at alloc_cpu.cpp:117] err == 0. DefaultCPUAllocator: can't allocate memory: you tried to allocate 720000000000 bytes. Error code 12 (Cannot allocate memory)"
     ]
    }
   ],
   "source": [
    "%%time\n",
    "tensor*tensor2 #Fails for large vectors"
   ]
  },
  {
   "cell_type": "code",
   "execution_count": 34,
   "id": "d8303ce2-15ee-467c-8cea-1cc322f17422",
   "metadata": {},
   "outputs": [
    {
     "name": "stdout",
     "output_type": "stream",
     "text": [
      "CPU times: user 642 µs, sys: 142 µs, total: 784 µs\n",
      "Wall time: 449 µs\n"
     ]
    },
    {
     "data": {
      "text/plain": [
       "tensor([[72137667]])"
      ]
     },
     "execution_count": 34,
     "metadata": {},
     "output_type": "execute_result"
    }
   ],
   "source": [
    "%%time\n",
    "torch.matmul(tensor,tensor2) #Does not fail for large vectors"
   ]
  },
  {
   "cell_type": "code",
   "execution_count": 35,
   "id": "cee73b2d-c966-4f99-9280-787515d547ca",
   "metadata": {},
   "outputs": [],
   "source": [
    "tensor = torch.randint(-100000,300000, (10,10))"
   ]
  },
  {
   "cell_type": "code",
   "execution_count": 36,
   "id": "3de0fe5c-ef5e-48f8-94f3-9a9ce0fe6e45",
   "metadata": {},
   "outputs": [
    {
     "data": {
      "text/plain": [
       "(tensor(-94016),\n",
       " tensor(294881),\n",
       " tensor(88000.9400, dtype=torch.float64),\n",
       " tensor(88000.9375))"
      ]
     },
     "execution_count": 36,
     "metadata": {},
     "output_type": "execute_result"
    }
   ],
   "source": [
    "tensor.min(), tensor.max(),tensor.type(torch.float64).mean(),tensor.type(torch.float32).mean()"
   ]
  },
  {
   "cell_type": "code",
   "execution_count": 37,
   "id": "00200dd8-f7a7-4c5b-bb76-59b059d34c41",
   "metadata": {},
   "outputs": [
    {
     "data": {
      "text/plain": [
       "torch.return_types.max(\n",
       "values=tensor([291993, 186359, 212176, 261451, 289838, 294881, 246899, 248429, 284290,\n",
       "        264938]),\n",
       "indices=tensor([7, 4, 0, 4, 3, 8, 9, 2, 8, 8]))"
      ]
     },
     "execution_count": 37,
     "metadata": {},
     "output_type": "execute_result"
    }
   ],
   "source": [
    "tensor.max(dim = 0)"
   ]
  },
  {
   "cell_type": "code",
   "execution_count": 38,
   "id": "fe55938c-c5d0-481f-850b-7d5fad2c0c45",
   "metadata": {},
   "outputs": [
    {
     "data": {
      "text/plain": [
       "torch.return_types.max(\n",
       "values=tensor([239681, 246408, 248429, 289838, 275866, 184294, 195086, 291993, 294881,\n",
       "        246899]),\n",
       "indices=tensor([5, 3, 7, 4, 5, 9, 0, 0, 5, 6]))"
      ]
     },
     "execution_count": 38,
     "metadata": {},
     "output_type": "execute_result"
    }
   ],
   "source": [
    "tensor.max(dim = 1)"
   ]
  },
  {
   "cell_type": "code",
   "execution_count": 39,
   "id": "0713a7a6-860e-43eb-9878-e111bda3b1dc",
   "metadata": {},
   "outputs": [
    {
     "data": {
      "text/plain": [
       "torch.Size([10, 10])"
      ]
     },
     "execution_count": 39,
     "metadata": {},
     "output_type": "execute_result"
    }
   ],
   "source": [
    "tensor.shape"
   ]
  },
  {
   "cell_type": "code",
   "execution_count": 40,
   "id": "6399d2fb-4155-4a2d-90d8-601521e228bd",
   "metadata": {},
   "outputs": [
    {
     "name": "stdout",
     "output_type": "stream",
     "text": [
      "Max value (torch.max(tensor2)): tensor(6)\n",
      "Element-wise max (torch.max(tensor2, tensor3)):\n",
      "tensor([[3, 2, 4],\n",
      "        [4, 5, 9]])\n"
     ]
    }
   ],
   "source": [
    "# Create a tensor\n",
    "tensor2 = torch.tensor([[1, 2, 3], [4, 5, 6]])\n",
    "\n",
    "# Find the maximum value of all elements\n",
    "max_value = torch.max(tensor2)\n",
    "print(\"Max value (torch.max(tensor2)):\", max_value)\n",
    "\n",
    "# Find the element-wise maximum of two tensors\n",
    "tensor3 = torch.tensor([[3, 1, 4], [1, 5, 9]])\n",
    "elementwise_max = torch.max(tensor2, tensor3)\n",
    "print(\"Element-wise max (torch.max(tensor2, tensor3)):\")\n",
    "print(elementwise_max)"
   ]
  },
  {
   "cell_type": "code",
   "execution_count": 41,
   "id": "47dfad20-870c-4db3-8be3-4f01be0c1d44",
   "metadata": {},
   "outputs": [
    {
     "data": {
      "text/plain": [
       "tensor(294881)"
      ]
     },
     "execution_count": 41,
     "metadata": {},
     "output_type": "execute_result"
    }
   ],
   "source": [
    "torch.max(tensor) #Torch.max is better than tensor.max since it has all functionalities + elementwise max also"
   ]
  },
  {
   "cell_type": "code",
   "execution_count": 42,
   "id": "c09d2595-6a3b-40d6-9cb4-78549bc98815",
   "metadata": {},
   "outputs": [
    {
     "data": {
      "text/plain": [
       "tensor([7, 4, 0, 4, 3, 8, 9, 2, 8, 8])"
      ]
     },
     "execution_count": 42,
     "metadata": {},
     "output_type": "execute_result"
    }
   ],
   "source": [
    "torch.argmax(tensor, dim = 0)"
   ]
  },
  {
   "cell_type": "code",
   "execution_count": 43,
   "id": "f58bcfaf-d27f-406e-b3ee-b022fcd0aba4",
   "metadata": {},
   "outputs": [
    {
     "data": {
      "text/plain": [
       "torch.Size([10, 10])"
      ]
     },
     "execution_count": 43,
     "metadata": {},
     "output_type": "execute_result"
    }
   ],
   "source": [
    "tensor.shape"
   ]
  },
  {
   "cell_type": "code",
   "execution_count": 44,
   "id": "4a853683-e81e-40a8-9754-bcf7a4e27eb6",
   "metadata": {},
   "outputs": [
    {
     "name": "stdout",
     "output_type": "stream",
     "text": [
      "tensor(5)\n",
      "tensor(3)\n",
      "tensor(7)\n",
      "tensor(4)\n",
      "tensor(5)\n",
      "tensor(9)\n",
      "tensor(0)\n",
      "tensor(0)\n",
      "tensor(5)\n",
      "tensor(6)\n"
     ]
    }
   ],
   "source": [
    "for small_tensor in tensor:\n",
    "    print(small_tensor.argmax())"
   ]
  },
  {
   "cell_type": "code",
   "execution_count": 45,
   "id": "62e22ecc-4bce-4631-a235-543b515704df",
   "metadata": {},
   "outputs": [
    {
     "name": "stdout",
     "output_type": "stream",
     "text": [
      "tensor(5)\n",
      "tensor(3)\n",
      "tensor(7)\n",
      "tensor(4)\n",
      "tensor(5)\n",
      "tensor(9)\n",
      "tensor(0)\n",
      "tensor(0)\n",
      "tensor(5)\n",
      "tensor(6)\n"
     ]
    }
   ],
   "source": [
    "for small_tensor in tensor:\n",
    "    print(small_tensor.argmax())\n",
    "\n",
    "#3:02:07"
   ]
  },
  {
   "cell_type": "markdown",
   "id": "9b48b36c-5d42-427b-a6f8-75fe5ad1b6f7",
   "metadata": {},
   "source": [
    "#### Reshaping stacking squeezing etc"
   ]
  },
  {
   "cell_type": "code",
   "execution_count": 46,
   "id": "d13e6203-5d4c-4e97-ade9-4e69503e7c7d",
   "metadata": {},
   "outputs": [],
   "source": [
    "tensor = torch.arange(1.,10.)"
   ]
  },
  {
   "cell_type": "code",
   "execution_count": 47,
   "id": "3bc49c63-ffbe-4632-86b1-82d11fd236c5",
   "metadata": {},
   "outputs": [
    {
     "data": {
      "text/plain": [
       "tensor([1., 2., 3., 4., 5., 6., 7., 8., 9.])"
      ]
     },
     "execution_count": 47,
     "metadata": {},
     "output_type": "execute_result"
    }
   ],
   "source": [
    "tensor"
   ]
  },
  {
   "cell_type": "code",
   "execution_count": 48,
   "id": "8934a76a-4f19-49ad-a173-4b27e98c47ed",
   "metadata": {},
   "outputs": [
    {
     "data": {
      "text/plain": [
       "tensor([[1.],\n",
       "        [2.],\n",
       "        [3.],\n",
       "        [4.],\n",
       "        [5.],\n",
       "        [6.],\n",
       "        [7.],\n",
       "        [8.],\n",
       "        [9.]])"
      ]
     },
     "execution_count": 48,
     "metadata": {},
     "output_type": "execute_result"
    }
   ],
   "source": [
    "tensor.reshape(9,1)"
   ]
  },
  {
   "cell_type": "code",
   "execution_count": 49,
   "id": "3ca8c057-2664-456a-93a1-f9416eaf974c",
   "metadata": {},
   "outputs": [],
   "source": [
    "z = tensor.view(9,1)"
   ]
  },
  {
   "cell_type": "code",
   "execution_count": 50,
   "id": "cd21f270-7332-4bd2-9c88-e3d46744b0e3",
   "metadata": {},
   "outputs": [
    {
     "data": {
      "text/plain": [
       "(tensor([[1.],\n",
       "         [2.],\n",
       "         [3.],\n",
       "         [4.],\n",
       "         [5.],\n",
       "         [6.],\n",
       "         [7.],\n",
       "         [8.],\n",
       "         [9.]]),\n",
       " tensor([1., 2., 3., 4., 5., 6., 7., 8., 9.]))"
      ]
     },
     "execution_count": 50,
     "metadata": {},
     "output_type": "execute_result"
    }
   ],
   "source": [
    "z,tensor"
   ]
  },
  {
   "cell_type": "code",
   "execution_count": 51,
   "id": "7afcd18e-42fa-4319-af3e-74f0952d29ce",
   "metadata": {},
   "outputs": [],
   "source": [
    "tensor = tensor.reshape(3,3)"
   ]
  },
  {
   "cell_type": "code",
   "execution_count": 52,
   "id": "9ba8a16f-9e58-45dc-a0fd-377f90ad746d",
   "metadata": {},
   "outputs": [
    {
     "data": {
      "text/plain": [
       "(tensor([[1.],\n",
       "         [2.],\n",
       "         [3.],\n",
       "         [4.],\n",
       "         [5.],\n",
       "         [6.],\n",
       "         [7.],\n",
       "         [8.],\n",
       "         [9.]]),\n",
       " tensor([[1., 2., 3.],\n",
       "         [4., 5., 6.],\n",
       "         [7., 8., 9.]]))"
      ]
     },
     "execution_count": 52,
     "metadata": {},
     "output_type": "execute_result"
    }
   ],
   "source": [
    "z,tensor"
   ]
  },
  {
   "cell_type": "code",
   "execution_count": 53,
   "id": "9c8e3426-2fb1-4594-b92d-57e76f6e37c9",
   "metadata": {},
   "outputs": [],
   "source": [
    "z = z.reshape(1,9)"
   ]
  },
  {
   "cell_type": "code",
   "execution_count": 54,
   "id": "17667ac6-8b19-489b-9db9-8c293d312294",
   "metadata": {},
   "outputs": [
    {
     "data": {
      "text/plain": [
       "(tensor([[1., 2., 3., 4., 5., 6., 7., 8., 9.]]),\n",
       " tensor([[1., 2., 3.],\n",
       "         [4., 5., 6.],\n",
       "         [7., 8., 9.]]))"
      ]
     },
     "execution_count": 54,
     "metadata": {},
     "output_type": "execute_result"
    }
   ],
   "source": [
    "z,tensor"
   ]
  },
  {
   "cell_type": "code",
   "execution_count": 55,
   "id": "0b5bb330-2896-4d77-ae59-f6866d8f0bed",
   "metadata": {},
   "outputs": [],
   "source": [
    "z[0][0] = 100"
   ]
  },
  {
   "cell_type": "code",
   "execution_count": 56,
   "id": "a32eee87-c793-42aa-94f7-cd2e65e7d842",
   "metadata": {},
   "outputs": [
    {
     "data": {
      "text/plain": [
       "(tensor([[100.,   2.,   3.,   4.,   5.,   6.,   7.,   8.,   9.]]),\n",
       " tensor([[100.,   2.,   3.],\n",
       "         [  4.,   5.,   6.],\n",
       "         [  7.,   8.,   9.]]))"
      ]
     },
     "execution_count": 56,
     "metadata": {},
     "output_type": "execute_result"
    }
   ],
   "source": [
    "z,tensor #Changing the underlying data of a view also changes original tensor and vice-versa"
   ]
  },
  {
   "cell_type": "code",
   "execution_count": 57,
   "id": "6ddd2b90-bc92-40ab-b28d-92268354b451",
   "metadata": {},
   "outputs": [],
   "source": [
    "tensor[0][1] = -10"
   ]
  },
  {
   "cell_type": "code",
   "execution_count": 58,
   "id": "a2fea79b-5cf5-40a2-9c3c-4caf99ac0045",
   "metadata": {},
   "outputs": [
    {
     "data": {
      "text/plain": [
       "(tensor([[100., -10.,   3.,   4.,   5.,   6.,   7.,   8.,   9.]]),\n",
       " tensor([[100., -10.,   3.],\n",
       "         [  4.,   5.,   6.],\n",
       "         [  7.,   8.,   9.]]))"
      ]
     },
     "execution_count": 58,
     "metadata": {},
     "output_type": "execute_result"
    }
   ],
   "source": [
    "z,tensor #Changing the underlying data of a view also changes original tensor and vice-versa"
   ]
  },
  {
   "cell_type": "code",
   "execution_count": 59,
   "id": "825411cc-ee54-4461-8758-d2f2590f5780",
   "metadata": {},
   "outputs": [],
   "source": [
    "dim1 = torch.stack([z,z,z,z], dim = 1)"
   ]
  },
  {
   "cell_type": "code",
   "execution_count": 60,
   "id": "c68928aa-9cad-4edb-a310-f18af52a7ab9",
   "metadata": {},
   "outputs": [],
   "source": [
    "dim2 = torch.stack([z,z,z,z], dim = 0)"
   ]
  },
  {
   "cell_type": "code",
   "execution_count": 61,
   "id": "23e60cf8-48eb-4d42-ba13-a6dbe31e170c",
   "metadata": {},
   "outputs": [
    {
     "data": {
      "text/plain": [
       "tensor([[100., -10.,   3.,   4.,   5.,   6.,   7.,   8.,   9.],\n",
       "        [100., -10.,   3.,   4.,   5.,   6.,   7.,   8.,   9.],\n",
       "        [100., -10.,   3.,   4.,   5.,   6.,   7.,   8.,   9.],\n",
       "        [100., -10.,   3.,   4.,   5.,   6.,   7.,   8.,   9.]])"
      ]
     },
     "execution_count": 61,
     "metadata": {},
     "output_type": "execute_result"
    }
   ],
   "source": [
    "dim1[0]"
   ]
  },
  {
   "cell_type": "code",
   "execution_count": 62,
   "id": "9a89a9d2-7f92-4384-a332-6ff7a8732f9c",
   "metadata": {},
   "outputs": [
    {
     "data": {
      "text/plain": [
       "tensor([[100., -10.,   3.,   4.,   5.,   6.,   7.,   8.,   9.]])"
      ]
     },
     "execution_count": 62,
     "metadata": {},
     "output_type": "execute_result"
    }
   ],
   "source": [
    "dim2[0]"
   ]
  },
  {
   "cell_type": "code",
   "execution_count": 63,
   "id": "f452781c-6156-4ac8-a1dc-a8ac6374896f",
   "metadata": {},
   "outputs": [
    {
     "data": {
      "text/plain": [
       "(torch.Size([1, 4, 9]),\n",
       " torch.Size([4, 9]),\n",
       " torch.Size([1, 1, 4, 9, 1]),\n",
       " torch.Size([1, 1, 4, 9]))"
      ]
     },
     "execution_count": 63,
     "metadata": {},
     "output_type": "execute_result"
    }
   ],
   "source": [
    "dim1.shape, dim1.squeeze().shape, dim1.unsqueeze(dim = 0).unsqueeze(dim = 4).shape, dim1.unsqueeze(dim = 0).shape"
   ]
  },
  {
   "cell_type": "code",
   "execution_count": 64,
   "id": "3ebd00e9-7032-4163-a8ca-4a228b4a9013",
   "metadata": {},
   "outputs": [
    {
     "data": {
      "text/plain": [
       "(torch.Size([4, 1, 9]), torch.Size([4, 9]))"
      ]
     },
     "execution_count": 64,
     "metadata": {},
     "output_type": "execute_result"
    }
   ],
   "source": [
    "dim2.shape, dim2.squeeze().shape"
   ]
  },
  {
   "cell_type": "code",
   "execution_count": 65,
   "id": "29a0db06-f64b-490a-af6c-441d3f022290",
   "metadata": {},
   "outputs": [],
   "source": [
    "#Permute re-arranges indexes and returns a view"
   ]
  },
  {
   "cell_type": "code",
   "execution_count": null,
   "id": "5e4ab871-dc08-49fd-af31-7e12cb89185a",
   "metadata": {},
   "outputs": [],
   "source": [
    "#3:49:48"
   ]
  },
  {
   "cell_type": "code",
   "execution_count": null,
   "id": "f73d5477-23ca-4662-8f54-d1a17ec31890",
   "metadata": {},
   "outputs": [],
   "source": []
  },
  {
   "cell_type": "code",
   "execution_count": null,
   "id": "bf5854e1-59a9-4130-bfa2-ae216b282808",
   "metadata": {},
   "outputs": [],
   "source": []
  },
  {
   "cell_type": "code",
   "execution_count": null,
   "id": "44a28d9a-6dcc-4e79-a610-d7e561cbf996",
   "metadata": {},
   "outputs": [],
   "source": []
  },
  {
   "cell_type": "code",
   "execution_count": null,
   "id": "81e5bb6f-46db-49c2-9e18-f1832b75449e",
   "metadata": {},
   "outputs": [],
   "source": []
  }
 ],
 "metadata": {
  "kernelspec": {
   "display_name": "Python 3 (ipykernel)",
   "language": "python",
   "name": "python3"
  },
  "language_info": {
   "codemirror_mode": {
    "name": "ipython",
    "version": 3
   },
   "file_extension": ".py",
   "mimetype": "text/x-python",
   "name": "python",
   "nbconvert_exporter": "python",
   "pygments_lexer": "ipython3",
   "version": "3.9.19"
  }
 },
 "nbformat": 4,
 "nbformat_minor": 5
}

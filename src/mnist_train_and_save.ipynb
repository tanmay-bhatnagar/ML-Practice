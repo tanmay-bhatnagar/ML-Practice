{
 "cells": [
  {
   "cell_type": "code",
   "execution_count": 1,
   "id": "0c3b7c47-a3f8-4b63-967a-157037b06bb5",
   "metadata": {},
   "outputs": [],
   "source": [
    "import torch\n",
    "import torch.nn as nn\n",
    "import torchvision\n",
    "import torch.nn.functional as F\n",
    "import torchsummary\n",
    "\n",
    "import pandas as pd\n",
    "import os\n",
    "import matplotlib.pyplot as plt\n",
    "from tqdm import tqdm"
   ]
  },
  {
   "cell_type": "code",
   "execution_count": 2,
   "id": "8442ef85-4394-487f-adfd-1daed5c66a50",
   "metadata": {},
   "outputs": [
    {
     "data": {
      "text/plain": [
       "True"
      ]
     },
     "execution_count": 2,
     "metadata": {},
     "output_type": "execute_result"
    }
   ],
   "source": [
    "torch.cuda.is_available() #check for CUDA"
   ]
  },
  {
   "cell_type": "code",
   "execution_count": 3,
   "id": "c5f68459-2505-4691-8c19-c09197ae050e",
   "metadata": {},
   "outputs": [],
   "source": [
    "# Load the training data\n",
    "batch_size = 256\n",
    "num_workers = 12\n",
    "\n",
    "train_data = torchvision.datasets.MNIST('../data/raw', train=True, download=True, transform=torchvision.transforms.ToTensor())\n",
    "trainloader = torch.utils.data.DataLoader(train_data, batch_size=batch_size,\n",
    "                                          shuffle=True, num_workers=num_workers)\n",
    "\n",
    "# Load the test data\n",
    "test_data = torchvision.datasets.MNIST('../data/raw', train=False, download=True, transform=torchvision.transforms.ToTensor())\n",
    "testloader = torch.utils.data.DataLoader(test_data, batch_size=batch_size,\n",
    "                                         shuffle=False, num_workers=num_workers)"
   ]
  },
  {
   "cell_type": "code",
   "execution_count": 4,
   "id": "f23139ca-1237-4f2f-9f49-e7b2c3974179",
   "metadata": {},
   "outputs": [],
   "source": [
    "# # Access the first image and its label\n",
    "# image, label = train_data[0]  # You can change the index to view different images\n",
    "\n",
    "# # Display the image and its label\n",
    "# plt.imshow(image.squeeze(), cmap='gray')  # .squeeze() removes 1-dimensions, cmap='gray' shows the image in grayscale\n",
    "# plt.title(f'Label: {label}')\n",
    "# plt.show()"
   ]
  },
  {
   "cell_type": "code",
   "execution_count": 5,
   "id": "fef605d8-a6c6-4b4d-b8a1-b5541f761af5",
   "metadata": {},
   "outputs": [
    {
     "name": "stderr",
     "output_type": "stream",
     "text": [
      "  0%|                                                   | 0/100 [00:00<?, ?it/s]/tmp/ipykernel_6707/3559692956.py:41: UserWarning: To copy construct from a tensor, it is recommended to use sourceTensor.clone().detach() or sourceTensor.clone().detach().requires_grad_(True), rather than torch.tensor(sourceTensor).\n",
      "  labels = torch.tensor(labels, device = net.device)\n",
      "100%|█████████████████████████████████████████| 100/100 [11:36<00:00,  6.97s/it]"
     ]
    },
    {
     "name": "stdout",
     "output_type": "stream",
     "text": [
      "Finished Training\n"
     ]
    },
    {
     "name": "stderr",
     "output_type": "stream",
     "text": [
      "\n"
     ]
    }
   ],
   "source": [
    "class mnistConvNet(nn.Module):\n",
    "    def __init__(self):\n",
    "        super().__init__()\n",
    "        self.conv1 = nn.Conv2d(1, 32, kernel_size=3, stride=1, padding=1)  # Output: 32 x 28 x 28\n",
    "        self.conv2 = nn.Conv2d(32, 64, kernel_size=3, stride=1, padding=1) # Output: 64 x 28 x 28\n",
    "        self.pool1 = nn.MaxPool2d(2, 2)                                    # Output: 64 x 14 x 14\n",
    "        self.conv3 = nn.Conv2d(64, 128, kernel_size=3, stride=1, padding=1)# Output: 128 x 14 x 14\n",
    "        self.pool2 = nn.MaxPool2d(2, 2)                                    # Output: 128 x 7 x 7\n",
    "        self.conv4 = nn.Conv2d(128, 256, kernel_size=3, stride=1, padding=0)# Output: 256 x 5 x 5\n",
    "        self.conv5 = nn.Conv2d(256, 10, kernel_size=5, stride=1, padding=0) # Output: 10 x 1 x 1\n",
    "\n",
    "        # Move all model parameters to GPU if available\n",
    "        self.device = torch.device(\"cuda\" if torch.cuda.is_available() else \"cpu\")\n",
    "        self.to(self.device)\n",
    "\n",
    "    def forward(self, x):\n",
    "        x = F.relu(self.conv1(x))\n",
    "        x = F.relu(self.conv2(x))\n",
    "        x = self.pool1(x)\n",
    "        x = F.relu(self.conv3(x))\n",
    "        x = self.pool2(x)\n",
    "        x = F.relu(self.conv4(x))\n",
    "        x = self.conv5(x)\n",
    "        x = x.view(-1, 10)  # Flatten to [batch_size, num_classes]\n",
    "        return x\n",
    "        \n",
    "net = mnistConvNet()\n",
    "\n",
    "criterion = torch.nn.CrossEntropyLoss() #Loss function\n",
    "optimizer = torch.optim.SGD(net.parameters(), lr=0.001, momentum=0.9) #Optimizer\n",
    "track_loss = []\n",
    "\n",
    "for epoch in tqdm(range(100)):  # loop over the dataset multiple times ### Try -> Load image/batch by hand and put it in model\n",
    "    running_loss = 0.0\n",
    "    for i, data in enumerate(trainloader, 0):\n",
    "        # get the inputs; data is a list of [inputs, labels]\n",
    "        inputs, labels = data\n",
    "\n",
    "        # Move inputs and labels to the same device as the model\n",
    "        inputs = inputs.to(net.device)\n",
    "        labels = torch.tensor(labels, device = net.device)\n",
    "        labels = labels.to(net.device)\n",
    "\n",
    "        #print(f\"Type of inputs: {type(inputs)}, Type of labels: {type(labels)}\") \n",
    "        #print(f\"Shape of inputs: {inputs.shape}, Shape of labels: {labels.shape}\")\n",
    "        \n",
    "        # zero the parameter gradients\n",
    "        optimizer.zero_grad()\n",
    "\n",
    "        # forward + backward + optimize\n",
    "        outputs = net(inputs)\n",
    "        loss = criterion(outputs, labels)\n",
    "        loss.backward()\n",
    "        optimizer.step()\n",
    "\n",
    "        # print statistics\n",
    "        running_loss += loss.item()\n",
    "        if i % 2000 == 1999:    # print every 2000 mini-batches\n",
    "            print(f'[{epoch + 1}, {i + 1:5d}] loss: {running_loss / 2000:.3f}')\n",
    "            running_loss = 0.0\n",
    "            track_loss.append([epoch, running_loss])\n",
    "\n",
    "print('Finished Training')"
   ]
  },
  {
   "cell_type": "code",
   "execution_count": 6,
   "id": "b4e68368-9687-4f77-8b10-e831b142c73f",
   "metadata": {},
   "outputs": [],
   "source": [
    "PATH = '../models/mnist_model.pth'\n",
    "torch.save(net.state_dict(), PATH)"
   ]
  },
  {
   "cell_type": "code",
   "execution_count": 8,
   "id": "09833aa7-5056-41d5-830e-68f442918682",
   "metadata": {},
   "outputs": [
    {
     "name": "stderr",
     "output_type": "stream",
     "text": [
      "/tmp/ipykernel_6707/3133354368.py:9: UserWarning: To copy construct from a tensor, it is recommended to use sourceTensor.clone().detach() or sourceTensor.clone().detach().requires_grad_(True), rather than torch.tensor(sourceTensor).\n",
      "  labels = torch.tensor(labels, device = net.device)\n"
     ]
    },
    {
     "name": "stdout",
     "output_type": "stream",
     "text": [
      "Accuracy of the network on the 10000 test images: 98 %\n"
     ]
    }
   ],
   "source": [
    "correct = 0\n",
    "total = 0\n",
    "# since we're not training, we don't need to calculate the gradients for our outputs\n",
    "with torch.no_grad():\n",
    "    for data in testloader:\n",
    "        images, labels = data\n",
    "        \n",
    "        images = images.to(net.device)\n",
    "        labels = torch.tensor(labels, device = net.device)\n",
    "        labels = labels.to(net.device)\n",
    "        \n",
    "        # calculate outputs by running images through the network\n",
    "        outputs = net(images)\n",
    "        # the class with the highest energy is what we choose as prediction\n",
    "        _, predicted = torch.max(outputs.data, 1)\n",
    "        total += labels.size(0)\n",
    "        correct += (predicted == labels).sum().item()\n",
    "\n",
    "print(f'Accuracy of the network on the 10000 test images: {100 * correct // total} %')"
   ]
  }
 ],
 "metadata": {
  "kernelspec": {
   "display_name": "Python 3 (ipykernel)",
   "language": "python",
   "name": "python3"
  },
  "language_info": {
   "codemirror_mode": {
    "name": "ipython",
    "version": 3
   },
   "file_extension": ".py",
   "mimetype": "text/x-python",
   "name": "python",
   "nbconvert_exporter": "python",
   "pygments_lexer": "ipython3",
   "version": "3.9.19"
  }
 },
 "nbformat": 4,
 "nbformat_minor": 5
}
